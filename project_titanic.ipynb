{
  "nbformat": 4,
  "nbformat_minor": 0,
  "metadata": {
    "colab": {
      "provenance": [],
      "toc_visible": true
    },
    "kernelspec": {
      "name": "python3",
      "display_name": "Python 3"
    },
    "language_info": {
      "name": "python"
    }
  },
  "cells": [
    {
      "cell_type": "markdown",
      "source": [
        "**Prediksi Keselamatan Penumpang Titanic** - Nana Casmana Ade Wikarta"
      ],
      "metadata": {
        "id": "a96UpVFxFOuz"
      }
    },
    {
      "cell_type": "markdown",
      "source": [
        "# **A. Identification**"
      ],
      "metadata": {
        "id": "kwn8B3HlEajd"
      }
    },
    {
      "cell_type": "markdown",
      "source": [
        "### **Problem Statement**\n",
        "\n",
        "Dataset Titanic memberikan data penumpang yang mencakup informasi seperti usia, jenis kelamin, kelas tiket, dan keberlangsungan hidup mereka. Dengan menggunakan data ini, kita membangun sebuah model machine learning yang dapat memprediksi kemungkinan keselamatan penumpang di Titanic berdasarkan informasi mereka.\n",
        "\n",
        "### **Tujuan**\n",
        "\n",
        "Tujuan dari analisis ini adalah untuk membangun model klasifikasi menggunakan machine learning untuk memprediksi apakah seorang penumpang Titanic akan selamat atau tidak berdasarkan informasi yang tersedia pada dataset.\n",
        "\n",
        "### **Objektif**\n",
        "1. Melakukan eksplorasi awal (EDA) terhadap dataset Titanic (train.csv) untuk memahami distribusi dan pola data.\n",
        "2. Menangani nilai hilang dan mengolah fitur kategorikal, termasuk encoding dan pemilihan fitur relevan.\n",
        "3. Membangun model klasifikasi menggunakan algoritma sederhana (Logistic Regression).\n",
        "4. Mengevaluasi performa model menggunakan metrik: Akurasi, Confusion Matrix, Precision, Recall, dan F1-Score.\n",
        "5. Memberikan interpretasi hasil evaluasi model untuk memahami potensi false positive/false negative dalam prediksi keselamatan penumpang.\n",
        "6. Mendokumentasikan proses dan hasil secara sistematis dan mengunggah ke GitHub untuk keperluan review oleh tim HR.\n",
        "\n",
        "### **Link Dataset**\n",
        "https://www.kaggle.com/c/titanic/data"
      ],
      "metadata": {
        "id": "v__tHp7wFVwe"
      }
    },
    {
      "cell_type": "markdown",
      "source": [
        "# **B. Set Up**"
      ],
      "metadata": {
        "id": "F_DS5q6aGdK5"
      }
    },
    {
      "cell_type": "markdown",
      "source": [
        "## **B.1 Import Libraries**"
      ],
      "metadata": {
        "id": "xotAXTLiHCxq"
      }
    },
    {
      "cell_type": "code",
      "source": [
        "import pandas as pd\n",
        "import numpy as np\n",
        "import matplotlib.pyplot as plt\n",
        "import seaborn as sns\n",
        "\n",
        "# Untuk modeling dan evaluasi\n",
        "from sklearn.model_selection import train_test_split\n",
        "from sklearn.preprocessing import LabelEncoder\n",
        "from sklearn.linear_model import LogisticRegression\n",
        "from sklearn.metrics import accuracy_score, confusion_matrix, classification_report\n",
        "from sklearn.model_selection import cross_val_score\n",
        "from sklearn.metrics import roc_curve, auc"
      ],
      "metadata": {
        "id": "VcA1dqHyEc-J"
      },
      "execution_count": 49,
      "outputs": []
    },
    {
      "cell_type": "markdown",
      "source": [
        "## **B.2 Load Gdrive**"
      ],
      "metadata": {
        "id": "FxEqaF-1Hn9S"
      }
    },
    {
      "cell_type": "code",
      "source": [
        "from google.colab import drive\n",
        "\n",
        "# Mount Google Drive\n",
        "drive.mount('/content/drive')\n"
      ],
      "metadata": {
        "colab": {
          "base_uri": "https://localhost:8080/"
        },
        "id": "K_VPLLrdHyDC",
        "outputId": "46f130f5-b92b-41f9-f9c1-2406c9a023e8"
      },
      "execution_count": 50,
      "outputs": [
        {
          "output_type": "stream",
          "name": "stdout",
          "text": [
            "Drive already mounted at /content/drive; to attempt to forcibly remount, call drive.mount(\"/content/drive\", force_remount=True).\n"
          ]
        }
      ]
    },
    {
      "cell_type": "markdown",
      "source": [
        "## **B.3 Load Dataset**"
      ],
      "metadata": {
        "id": "Gsxa6WcYHSTa"
      }
    },
    {
      "cell_type": "code",
      "source": [
        "# Load dataset\n",
        "file_path = '/content/drive/MyDrive/titanic/dataset/train.csv'\n",
        "df = pd.read_csv(file_path)\n",
        "\n",
        "df"
      ],
      "metadata": {
        "colab": {
          "base_uri": "https://localhost:8080/",
          "height": 424
        },
        "id": "ehOYgmxnHR8N",
        "outputId": "754fe6e9-7873-4d0c-b0eb-831ba40fdb10"
      },
      "execution_count": 51,
      "outputs": [
        {
          "output_type": "execute_result",
          "data": {
            "text/plain": [
              "     PassengerId  Survived  Pclass  \\\n",
              "0              1         0       3   \n",
              "1              2         1       1   \n",
              "2              3         1       3   \n",
              "3              4         1       1   \n",
              "4              5         0       3   \n",
              "..           ...       ...     ...   \n",
              "886          887         0       2   \n",
              "887          888         1       1   \n",
              "888          889         0       3   \n",
              "889          890         1       1   \n",
              "890          891         0       3   \n",
              "\n",
              "                                                  Name     Sex   Age  SibSp  \\\n",
              "0                              Braund, Mr. Owen Harris    male  22.0      1   \n",
              "1    Cumings, Mrs. John Bradley (Florence Briggs Th...  female  38.0      1   \n",
              "2                               Heikkinen, Miss. Laina  female  26.0      0   \n",
              "3         Futrelle, Mrs. Jacques Heath (Lily May Peel)  female  35.0      1   \n",
              "4                             Allen, Mr. William Henry    male  35.0      0   \n",
              "..                                                 ...     ...   ...    ...   \n",
              "886                              Montvila, Rev. Juozas    male  27.0      0   \n",
              "887                       Graham, Miss. Margaret Edith  female  19.0      0   \n",
              "888           Johnston, Miss. Catherine Helen \"Carrie\"  female   NaN      1   \n",
              "889                              Behr, Mr. Karl Howell    male  26.0      0   \n",
              "890                                Dooley, Mr. Patrick    male  32.0      0   \n",
              "\n",
              "     Parch            Ticket     Fare Cabin Embarked  \n",
              "0        0         A/5 21171   7.2500   NaN        S  \n",
              "1        0          PC 17599  71.2833   C85        C  \n",
              "2        0  STON/O2. 3101282   7.9250   NaN        S  \n",
              "3        0            113803  53.1000  C123        S  \n",
              "4        0            373450   8.0500   NaN        S  \n",
              "..     ...               ...      ...   ...      ...  \n",
              "886      0            211536  13.0000   NaN        S  \n",
              "887      0            112053  30.0000   B42        S  \n",
              "888      2        W./C. 6607  23.4500   NaN        S  \n",
              "889      0            111369  30.0000  C148        C  \n",
              "890      0            370376   7.7500   NaN        Q  \n",
              "\n",
              "[891 rows x 12 columns]"
            ],
            "text/html": [
              "\n",
              "  <div id=\"df-b80951d8-a567-4c74-af43-9f765939d067\" class=\"colab-df-container\">\n",
              "    <div>\n",
              "<style scoped>\n",
              "    .dataframe tbody tr th:only-of-type {\n",
              "        vertical-align: middle;\n",
              "    }\n",
              "\n",
              "    .dataframe tbody tr th {\n",
              "        vertical-align: top;\n",
              "    }\n",
              "\n",
              "    .dataframe thead th {\n",
              "        text-align: right;\n",
              "    }\n",
              "</style>\n",
              "<table border=\"1\" class=\"dataframe\">\n",
              "  <thead>\n",
              "    <tr style=\"text-align: right;\">\n",
              "      <th></th>\n",
              "      <th>PassengerId</th>\n",
              "      <th>Survived</th>\n",
              "      <th>Pclass</th>\n",
              "      <th>Name</th>\n",
              "      <th>Sex</th>\n",
              "      <th>Age</th>\n",
              "      <th>SibSp</th>\n",
              "      <th>Parch</th>\n",
              "      <th>Ticket</th>\n",
              "      <th>Fare</th>\n",
              "      <th>Cabin</th>\n",
              "      <th>Embarked</th>\n",
              "    </tr>\n",
              "  </thead>\n",
              "  <tbody>\n",
              "    <tr>\n",
              "      <th>0</th>\n",
              "      <td>1</td>\n",
              "      <td>0</td>\n",
              "      <td>3</td>\n",
              "      <td>Braund, Mr. Owen Harris</td>\n",
              "      <td>male</td>\n",
              "      <td>22.0</td>\n",
              "      <td>1</td>\n",
              "      <td>0</td>\n",
              "      <td>A/5 21171</td>\n",
              "      <td>7.2500</td>\n",
              "      <td>NaN</td>\n",
              "      <td>S</td>\n",
              "    </tr>\n",
              "    <tr>\n",
              "      <th>1</th>\n",
              "      <td>2</td>\n",
              "      <td>1</td>\n",
              "      <td>1</td>\n",
              "      <td>Cumings, Mrs. John Bradley (Florence Briggs Th...</td>\n",
              "      <td>female</td>\n",
              "      <td>38.0</td>\n",
              "      <td>1</td>\n",
              "      <td>0</td>\n",
              "      <td>PC 17599</td>\n",
              "      <td>71.2833</td>\n",
              "      <td>C85</td>\n",
              "      <td>C</td>\n",
              "    </tr>\n",
              "    <tr>\n",
              "      <th>2</th>\n",
              "      <td>3</td>\n",
              "      <td>1</td>\n",
              "      <td>3</td>\n",
              "      <td>Heikkinen, Miss. Laina</td>\n",
              "      <td>female</td>\n",
              "      <td>26.0</td>\n",
              "      <td>0</td>\n",
              "      <td>0</td>\n",
              "      <td>STON/O2. 3101282</td>\n",
              "      <td>7.9250</td>\n",
              "      <td>NaN</td>\n",
              "      <td>S</td>\n",
              "    </tr>\n",
              "    <tr>\n",
              "      <th>3</th>\n",
              "      <td>4</td>\n",
              "      <td>1</td>\n",
              "      <td>1</td>\n",
              "      <td>Futrelle, Mrs. Jacques Heath (Lily May Peel)</td>\n",
              "      <td>female</td>\n",
              "      <td>35.0</td>\n",
              "      <td>1</td>\n",
              "      <td>0</td>\n",
              "      <td>113803</td>\n",
              "      <td>53.1000</td>\n",
              "      <td>C123</td>\n",
              "      <td>S</td>\n",
              "    </tr>\n",
              "    <tr>\n",
              "      <th>4</th>\n",
              "      <td>5</td>\n",
              "      <td>0</td>\n",
              "      <td>3</td>\n",
              "      <td>Allen, Mr. William Henry</td>\n",
              "      <td>male</td>\n",
              "      <td>35.0</td>\n",
              "      <td>0</td>\n",
              "      <td>0</td>\n",
              "      <td>373450</td>\n",
              "      <td>8.0500</td>\n",
              "      <td>NaN</td>\n",
              "      <td>S</td>\n",
              "    </tr>\n",
              "    <tr>\n",
              "      <th>...</th>\n",
              "      <td>...</td>\n",
              "      <td>...</td>\n",
              "      <td>...</td>\n",
              "      <td>...</td>\n",
              "      <td>...</td>\n",
              "      <td>...</td>\n",
              "      <td>...</td>\n",
              "      <td>...</td>\n",
              "      <td>...</td>\n",
              "      <td>...</td>\n",
              "      <td>...</td>\n",
              "      <td>...</td>\n",
              "    </tr>\n",
              "    <tr>\n",
              "      <th>886</th>\n",
              "      <td>887</td>\n",
              "      <td>0</td>\n",
              "      <td>2</td>\n",
              "      <td>Montvila, Rev. Juozas</td>\n",
              "      <td>male</td>\n",
              "      <td>27.0</td>\n",
              "      <td>0</td>\n",
              "      <td>0</td>\n",
              "      <td>211536</td>\n",
              "      <td>13.0000</td>\n",
              "      <td>NaN</td>\n",
              "      <td>S</td>\n",
              "    </tr>\n",
              "    <tr>\n",
              "      <th>887</th>\n",
              "      <td>888</td>\n",
              "      <td>1</td>\n",
              "      <td>1</td>\n",
              "      <td>Graham, Miss. Margaret Edith</td>\n",
              "      <td>female</td>\n",
              "      <td>19.0</td>\n",
              "      <td>0</td>\n",
              "      <td>0</td>\n",
              "      <td>112053</td>\n",
              "      <td>30.0000</td>\n",
              "      <td>B42</td>\n",
              "      <td>S</td>\n",
              "    </tr>\n",
              "    <tr>\n",
              "      <th>888</th>\n",
              "      <td>889</td>\n",
              "      <td>0</td>\n",
              "      <td>3</td>\n",
              "      <td>Johnston, Miss. Catherine Helen \"Carrie\"</td>\n",
              "      <td>female</td>\n",
              "      <td>NaN</td>\n",
              "      <td>1</td>\n",
              "      <td>2</td>\n",
              "      <td>W./C. 6607</td>\n",
              "      <td>23.4500</td>\n",
              "      <td>NaN</td>\n",
              "      <td>S</td>\n",
              "    </tr>\n",
              "    <tr>\n",
              "      <th>889</th>\n",
              "      <td>890</td>\n",
              "      <td>1</td>\n",
              "      <td>1</td>\n",
              "      <td>Behr, Mr. Karl Howell</td>\n",
              "      <td>male</td>\n",
              "      <td>26.0</td>\n",
              "      <td>0</td>\n",
              "      <td>0</td>\n",
              "      <td>111369</td>\n",
              "      <td>30.0000</td>\n",
              "      <td>C148</td>\n",
              "      <td>C</td>\n",
              "    </tr>\n",
              "    <tr>\n",
              "      <th>890</th>\n",
              "      <td>891</td>\n",
              "      <td>0</td>\n",
              "      <td>3</td>\n",
              "      <td>Dooley, Mr. Patrick</td>\n",
              "      <td>male</td>\n",
              "      <td>32.0</td>\n",
              "      <td>0</td>\n",
              "      <td>0</td>\n",
              "      <td>370376</td>\n",
              "      <td>7.7500</td>\n",
              "      <td>NaN</td>\n",
              "      <td>Q</td>\n",
              "    </tr>\n",
              "  </tbody>\n",
              "</table>\n",
              "<p>891 rows × 12 columns</p>\n",
              "</div>\n",
              "    <div class=\"colab-df-buttons\">\n",
              "\n",
              "  <div class=\"colab-df-container\">\n",
              "    <button class=\"colab-df-convert\" onclick=\"convertToInteractive('df-b80951d8-a567-4c74-af43-9f765939d067')\"\n",
              "            title=\"Convert this dataframe to an interactive table.\"\n",
              "            style=\"display:none;\">\n",
              "\n",
              "  <svg xmlns=\"http://www.w3.org/2000/svg\" height=\"24px\" viewBox=\"0 -960 960 960\">\n",
              "    <path d=\"M120-120v-720h720v720H120Zm60-500h600v-160H180v160Zm220 220h160v-160H400v160Zm0 220h160v-160H400v160ZM180-400h160v-160H180v160Zm440 0h160v-160H620v160ZM180-180h160v-160H180v160Zm440 0h160v-160H620v160Z\"/>\n",
              "  </svg>\n",
              "    </button>\n",
              "\n",
              "  <style>\n",
              "    .colab-df-container {\n",
              "      display:flex;\n",
              "      gap: 12px;\n",
              "    }\n",
              "\n",
              "    .colab-df-convert {\n",
              "      background-color: #E8F0FE;\n",
              "      border: none;\n",
              "      border-radius: 50%;\n",
              "      cursor: pointer;\n",
              "      display: none;\n",
              "      fill: #1967D2;\n",
              "      height: 32px;\n",
              "      padding: 0 0 0 0;\n",
              "      width: 32px;\n",
              "    }\n",
              "\n",
              "    .colab-df-convert:hover {\n",
              "      background-color: #E2EBFA;\n",
              "      box-shadow: 0px 1px 2px rgba(60, 64, 67, 0.3), 0px 1px 3px 1px rgba(60, 64, 67, 0.15);\n",
              "      fill: #174EA6;\n",
              "    }\n",
              "\n",
              "    .colab-df-buttons div {\n",
              "      margin-bottom: 4px;\n",
              "    }\n",
              "\n",
              "    [theme=dark] .colab-df-convert {\n",
              "      background-color: #3B4455;\n",
              "      fill: #D2E3FC;\n",
              "    }\n",
              "\n",
              "    [theme=dark] .colab-df-convert:hover {\n",
              "      background-color: #434B5C;\n",
              "      box-shadow: 0px 1px 3px 1px rgba(0, 0, 0, 0.15);\n",
              "      filter: drop-shadow(0px 1px 2px rgba(0, 0, 0, 0.3));\n",
              "      fill: #FFFFFF;\n",
              "    }\n",
              "  </style>\n",
              "\n",
              "    <script>\n",
              "      const buttonEl =\n",
              "        document.querySelector('#df-b80951d8-a567-4c74-af43-9f765939d067 button.colab-df-convert');\n",
              "      buttonEl.style.display =\n",
              "        google.colab.kernel.accessAllowed ? 'block' : 'none';\n",
              "\n",
              "      async function convertToInteractive(key) {\n",
              "        const element = document.querySelector('#df-b80951d8-a567-4c74-af43-9f765939d067');\n",
              "        const dataTable =\n",
              "          await google.colab.kernel.invokeFunction('convertToInteractive',\n",
              "                                                    [key], {});\n",
              "        if (!dataTable) return;\n",
              "\n",
              "        const docLinkHtml = 'Like what you see? Visit the ' +\n",
              "          '<a target=\"_blank\" href=https://colab.research.google.com/notebooks/data_table.ipynb>data table notebook</a>'\n",
              "          + ' to learn more about interactive tables.';\n",
              "        element.innerHTML = '';\n",
              "        dataTable['output_type'] = 'display_data';\n",
              "        await google.colab.output.renderOutput(dataTable, element);\n",
              "        const docLink = document.createElement('div');\n",
              "        docLink.innerHTML = docLinkHtml;\n",
              "        element.appendChild(docLink);\n",
              "      }\n",
              "    </script>\n",
              "  </div>\n",
              "\n",
              "\n",
              "    <div id=\"df-e160c3b8-f43d-4069-98c2-bab4b40e9931\">\n",
              "      <button class=\"colab-df-quickchart\" onclick=\"quickchart('df-e160c3b8-f43d-4069-98c2-bab4b40e9931')\"\n",
              "                title=\"Suggest charts\"\n",
              "                style=\"display:none;\">\n",
              "\n",
              "<svg xmlns=\"http://www.w3.org/2000/svg\" height=\"24px\"viewBox=\"0 0 24 24\"\n",
              "     width=\"24px\">\n",
              "    <g>\n",
              "        <path d=\"M19 3H5c-1.1 0-2 .9-2 2v14c0 1.1.9 2 2 2h14c1.1 0 2-.9 2-2V5c0-1.1-.9-2-2-2zM9 17H7v-7h2v7zm4 0h-2V7h2v10zm4 0h-2v-4h2v4z\"/>\n",
              "    </g>\n",
              "</svg>\n",
              "      </button>\n",
              "\n",
              "<style>\n",
              "  .colab-df-quickchart {\n",
              "      --bg-color: #E8F0FE;\n",
              "      --fill-color: #1967D2;\n",
              "      --hover-bg-color: #E2EBFA;\n",
              "      --hover-fill-color: #174EA6;\n",
              "      --disabled-fill-color: #AAA;\n",
              "      --disabled-bg-color: #DDD;\n",
              "  }\n",
              "\n",
              "  [theme=dark] .colab-df-quickchart {\n",
              "      --bg-color: #3B4455;\n",
              "      --fill-color: #D2E3FC;\n",
              "      --hover-bg-color: #434B5C;\n",
              "      --hover-fill-color: #FFFFFF;\n",
              "      --disabled-bg-color: #3B4455;\n",
              "      --disabled-fill-color: #666;\n",
              "  }\n",
              "\n",
              "  .colab-df-quickchart {\n",
              "    background-color: var(--bg-color);\n",
              "    border: none;\n",
              "    border-radius: 50%;\n",
              "    cursor: pointer;\n",
              "    display: none;\n",
              "    fill: var(--fill-color);\n",
              "    height: 32px;\n",
              "    padding: 0;\n",
              "    width: 32px;\n",
              "  }\n",
              "\n",
              "  .colab-df-quickchart:hover {\n",
              "    background-color: var(--hover-bg-color);\n",
              "    box-shadow: 0 1px 2px rgba(60, 64, 67, 0.3), 0 1px 3px 1px rgba(60, 64, 67, 0.15);\n",
              "    fill: var(--button-hover-fill-color);\n",
              "  }\n",
              "\n",
              "  .colab-df-quickchart-complete:disabled,\n",
              "  .colab-df-quickchart-complete:disabled:hover {\n",
              "    background-color: var(--disabled-bg-color);\n",
              "    fill: var(--disabled-fill-color);\n",
              "    box-shadow: none;\n",
              "  }\n",
              "\n",
              "  .colab-df-spinner {\n",
              "    border: 2px solid var(--fill-color);\n",
              "    border-color: transparent;\n",
              "    border-bottom-color: var(--fill-color);\n",
              "    animation:\n",
              "      spin 1s steps(1) infinite;\n",
              "  }\n",
              "\n",
              "  @keyframes spin {\n",
              "    0% {\n",
              "      border-color: transparent;\n",
              "      border-bottom-color: var(--fill-color);\n",
              "      border-left-color: var(--fill-color);\n",
              "    }\n",
              "    20% {\n",
              "      border-color: transparent;\n",
              "      border-left-color: var(--fill-color);\n",
              "      border-top-color: var(--fill-color);\n",
              "    }\n",
              "    30% {\n",
              "      border-color: transparent;\n",
              "      border-left-color: var(--fill-color);\n",
              "      border-top-color: var(--fill-color);\n",
              "      border-right-color: var(--fill-color);\n",
              "    }\n",
              "    40% {\n",
              "      border-color: transparent;\n",
              "      border-right-color: var(--fill-color);\n",
              "      border-top-color: var(--fill-color);\n",
              "    }\n",
              "    60% {\n",
              "      border-color: transparent;\n",
              "      border-right-color: var(--fill-color);\n",
              "    }\n",
              "    80% {\n",
              "      border-color: transparent;\n",
              "      border-right-color: var(--fill-color);\n",
              "      border-bottom-color: var(--fill-color);\n",
              "    }\n",
              "    90% {\n",
              "      border-color: transparent;\n",
              "      border-bottom-color: var(--fill-color);\n",
              "    }\n",
              "  }\n",
              "</style>\n",
              "\n",
              "      <script>\n",
              "        async function quickchart(key) {\n",
              "          const quickchartButtonEl =\n",
              "            document.querySelector('#' + key + ' button');\n",
              "          quickchartButtonEl.disabled = true;  // To prevent multiple clicks.\n",
              "          quickchartButtonEl.classList.add('colab-df-spinner');\n",
              "          try {\n",
              "            const charts = await google.colab.kernel.invokeFunction(\n",
              "                'suggestCharts', [key], {});\n",
              "          } catch (error) {\n",
              "            console.error('Error during call to suggestCharts:', error);\n",
              "          }\n",
              "          quickchartButtonEl.classList.remove('colab-df-spinner');\n",
              "          quickchartButtonEl.classList.add('colab-df-quickchart-complete');\n",
              "        }\n",
              "        (() => {\n",
              "          let quickchartButtonEl =\n",
              "            document.querySelector('#df-e160c3b8-f43d-4069-98c2-bab4b40e9931 button');\n",
              "          quickchartButtonEl.style.display =\n",
              "            google.colab.kernel.accessAllowed ? 'block' : 'none';\n",
              "        })();\n",
              "      </script>\n",
              "    </div>\n",
              "\n",
              "  <div id=\"id_acb85635-b0b2-47a0-a2df-6aef9f68d451\">\n",
              "    <style>\n",
              "      .colab-df-generate {\n",
              "        background-color: #E8F0FE;\n",
              "        border: none;\n",
              "        border-radius: 50%;\n",
              "        cursor: pointer;\n",
              "        display: none;\n",
              "        fill: #1967D2;\n",
              "        height: 32px;\n",
              "        padding: 0 0 0 0;\n",
              "        width: 32px;\n",
              "      }\n",
              "\n",
              "      .colab-df-generate:hover {\n",
              "        background-color: #E2EBFA;\n",
              "        box-shadow: 0px 1px 2px rgba(60, 64, 67, 0.3), 0px 1px 3px 1px rgba(60, 64, 67, 0.15);\n",
              "        fill: #174EA6;\n",
              "      }\n",
              "\n",
              "      [theme=dark] .colab-df-generate {\n",
              "        background-color: #3B4455;\n",
              "        fill: #D2E3FC;\n",
              "      }\n",
              "\n",
              "      [theme=dark] .colab-df-generate:hover {\n",
              "        background-color: #434B5C;\n",
              "        box-shadow: 0px 1px 3px 1px rgba(0, 0, 0, 0.15);\n",
              "        filter: drop-shadow(0px 1px 2px rgba(0, 0, 0, 0.3));\n",
              "        fill: #FFFFFF;\n",
              "      }\n",
              "    </style>\n",
              "    <button class=\"colab-df-generate\" onclick=\"generateWithVariable('df')\"\n",
              "            title=\"Generate code using this dataframe.\"\n",
              "            style=\"display:none;\">\n",
              "\n",
              "  <svg xmlns=\"http://www.w3.org/2000/svg\" height=\"24px\"viewBox=\"0 0 24 24\"\n",
              "       width=\"24px\">\n",
              "    <path d=\"M7,19H8.4L18.45,9,17,7.55,7,17.6ZM5,21V16.75L18.45,3.32a2,2,0,0,1,2.83,0l1.4,1.43a1.91,1.91,0,0,1,.58,1.4,1.91,1.91,0,0,1-.58,1.4L9.25,21ZM18.45,9,17,7.55Zm-12,3A5.31,5.31,0,0,0,4.9,8.1,5.31,5.31,0,0,0,1,6.5,5.31,5.31,0,0,0,4.9,4.9,5.31,5.31,0,0,0,6.5,1,5.31,5.31,0,0,0,8.1,4.9,5.31,5.31,0,0,0,12,6.5,5.46,5.46,0,0,0,6.5,12Z\"/>\n",
              "  </svg>\n",
              "    </button>\n",
              "    <script>\n",
              "      (() => {\n",
              "      const buttonEl =\n",
              "        document.querySelector('#id_acb85635-b0b2-47a0-a2df-6aef9f68d451 button.colab-df-generate');\n",
              "      buttonEl.style.display =\n",
              "        google.colab.kernel.accessAllowed ? 'block' : 'none';\n",
              "\n",
              "      buttonEl.onclick = () => {\n",
              "        google.colab.notebook.generateWithVariable('df');\n",
              "      }\n",
              "      })();\n",
              "    </script>\n",
              "  </div>\n",
              "\n",
              "    </div>\n",
              "  </div>\n"
            ],
            "application/vnd.google.colaboratory.intrinsic+json": {
              "type": "dataframe",
              "variable_name": "df",
              "summary": "{\n  \"name\": \"df\",\n  \"rows\": 891,\n  \"fields\": [\n    {\n      \"column\": \"PassengerId\",\n      \"properties\": {\n        \"dtype\": \"number\",\n        \"std\": 257,\n        \"min\": 1,\n        \"max\": 891,\n        \"num_unique_values\": 891,\n        \"samples\": [\n          710,\n          440,\n          841\n        ],\n        \"semantic_type\": \"\",\n        \"description\": \"\"\n      }\n    },\n    {\n      \"column\": \"Survived\",\n      \"properties\": {\n        \"dtype\": \"number\",\n        \"std\": 0,\n        \"min\": 0,\n        \"max\": 1,\n        \"num_unique_values\": 2,\n        \"samples\": [\n          1,\n          0\n        ],\n        \"semantic_type\": \"\",\n        \"description\": \"\"\n      }\n    },\n    {\n      \"column\": \"Pclass\",\n      \"properties\": {\n        \"dtype\": \"number\",\n        \"std\": 0,\n        \"min\": 1,\n        \"max\": 3,\n        \"num_unique_values\": 3,\n        \"samples\": [\n          3,\n          1\n        ],\n        \"semantic_type\": \"\",\n        \"description\": \"\"\n      }\n    },\n    {\n      \"column\": \"Name\",\n      \"properties\": {\n        \"dtype\": \"string\",\n        \"num_unique_values\": 891,\n        \"samples\": [\n          \"Moubarek, Master. Halim Gonios (\\\"William George\\\")\",\n          \"Kvillner, Mr. Johan Henrik Johannesson\"\n        ],\n        \"semantic_type\": \"\",\n        \"description\": \"\"\n      }\n    },\n    {\n      \"column\": \"Sex\",\n      \"properties\": {\n        \"dtype\": \"category\",\n        \"num_unique_values\": 2,\n        \"samples\": [\n          \"female\",\n          \"male\"\n        ],\n        \"semantic_type\": \"\",\n        \"description\": \"\"\n      }\n    },\n    {\n      \"column\": \"Age\",\n      \"properties\": {\n        \"dtype\": \"number\",\n        \"std\": 14.526497332334044,\n        \"min\": 0.42,\n        \"max\": 80.0,\n        \"num_unique_values\": 88,\n        \"samples\": [\n          0.75,\n          22.0\n        ],\n        \"semantic_type\": \"\",\n        \"description\": \"\"\n      }\n    },\n    {\n      \"column\": \"SibSp\",\n      \"properties\": {\n        \"dtype\": \"number\",\n        \"std\": 1,\n        \"min\": 0,\n        \"max\": 8,\n        \"num_unique_values\": 7,\n        \"samples\": [\n          1,\n          0\n        ],\n        \"semantic_type\": \"\",\n        \"description\": \"\"\n      }\n    },\n    {\n      \"column\": \"Parch\",\n      \"properties\": {\n        \"dtype\": \"number\",\n        \"std\": 0,\n        \"min\": 0,\n        \"max\": 6,\n        \"num_unique_values\": 7,\n        \"samples\": [\n          0,\n          1\n        ],\n        \"semantic_type\": \"\",\n        \"description\": \"\"\n      }\n    },\n    {\n      \"column\": \"Ticket\",\n      \"properties\": {\n        \"dtype\": \"string\",\n        \"num_unique_values\": 681,\n        \"samples\": [\n          \"11774\",\n          \"248740\"\n        ],\n        \"semantic_type\": \"\",\n        \"description\": \"\"\n      }\n    },\n    {\n      \"column\": \"Fare\",\n      \"properties\": {\n        \"dtype\": \"number\",\n        \"std\": 49.693428597180905,\n        \"min\": 0.0,\n        \"max\": 512.3292,\n        \"num_unique_values\": 248,\n        \"samples\": [\n          11.2417,\n          51.8625\n        ],\n        \"semantic_type\": \"\",\n        \"description\": \"\"\n      }\n    },\n    {\n      \"column\": \"Cabin\",\n      \"properties\": {\n        \"dtype\": \"category\",\n        \"num_unique_values\": 147,\n        \"samples\": [\n          \"D45\",\n          \"B49\"\n        ],\n        \"semantic_type\": \"\",\n        \"description\": \"\"\n      }\n    },\n    {\n      \"column\": \"Embarked\",\n      \"properties\": {\n        \"dtype\": \"category\",\n        \"num_unique_values\": 3,\n        \"samples\": [\n          \"S\",\n          \"C\"\n        ],\n        \"semantic_type\": \"\",\n        \"description\": \"\"\n      }\n    }\n  ]\n}"
            }
          },
          "metadata": {},
          "execution_count": 51
        }
      ]
    },
    {
      "cell_type": "markdown",
      "source": [
        "# **C. Exploratory Data Analysis**"
      ],
      "metadata": {
        "id": "RdOABN7VT8x2"
      }
    },
    {
      "cell_type": "code",
      "source": [
        "# Lihat 5 baris pertama\n",
        "print(df.head())"
      ],
      "metadata": {
        "colab": {
          "base_uri": "https://localhost:8080/"
        },
        "id": "HXkMuVm7UaFC",
        "outputId": "9ab8473f-7b4f-4891-b373-0708467f934c"
      },
      "execution_count": 52,
      "outputs": [
        {
          "output_type": "stream",
          "name": "stdout",
          "text": [
            "   PassengerId  Survived  Pclass  \\\n",
            "0            1         0       3   \n",
            "1            2         1       1   \n",
            "2            3         1       3   \n",
            "3            4         1       1   \n",
            "4            5         0       3   \n",
            "\n",
            "                                                Name     Sex   Age  SibSp  \\\n",
            "0                            Braund, Mr. Owen Harris    male  22.0      1   \n",
            "1  Cumings, Mrs. John Bradley (Florence Briggs Th...  female  38.0      1   \n",
            "2                             Heikkinen, Miss. Laina  female  26.0      0   \n",
            "3       Futrelle, Mrs. Jacques Heath (Lily May Peel)  female  35.0      1   \n",
            "4                           Allen, Mr. William Henry    male  35.0      0   \n",
            "\n",
            "   Parch            Ticket     Fare Cabin Embarked  \n",
            "0      0         A/5 21171   7.2500   NaN        S  \n",
            "1      0          PC 17599  71.2833   C85        C  \n",
            "2      0  STON/O2. 3101282   7.9250   NaN        S  \n",
            "3      0            113803  53.1000  C123        S  \n",
            "4      0            373450   8.0500   NaN        S  \n"
          ]
        }
      ]
    },
    {
      "cell_type": "markdown",
      "source": [
        "Langkah ini untuk melihat gambaran umum dari data dan menentukan apakah ada hal-hal yang perlu diperhatikan pada awalan.\n"
      ],
      "metadata": {
        "id": "K4YZQDZZVwVh"
      }
    },
    {
      "cell_type": "markdown",
      "source": [
        "Untuk memeriksa tipe data setiap kolom dan jumlah data yang hilang (null values), kita gunakan:"
      ],
      "metadata": {
        "id": "7RBQnFacWIC2"
      }
    },
    {
      "cell_type": "code",
      "source": [
        "# Info tipe data\n",
        "print(df.info())"
      ],
      "metadata": {
        "colab": {
          "base_uri": "https://localhost:8080/"
        },
        "id": "iAjhjoewWE-p",
        "outputId": "6f0f1ce2-203c-49a8-c0f7-01f2e6341121"
      },
      "execution_count": 53,
      "outputs": [
        {
          "output_type": "stream",
          "name": "stdout",
          "text": [
            "<class 'pandas.core.frame.DataFrame'>\n",
            "RangeIndex: 891 entries, 0 to 890\n",
            "Data columns (total 12 columns):\n",
            " #   Column       Non-Null Count  Dtype  \n",
            "---  ------       --------------  -----  \n",
            " 0   PassengerId  891 non-null    int64  \n",
            " 1   Survived     891 non-null    int64  \n",
            " 2   Pclass       891 non-null    int64  \n",
            " 3   Name         891 non-null    object \n",
            " 4   Sex          891 non-null    object \n",
            " 5   Age          714 non-null    float64\n",
            " 6   SibSp        891 non-null    int64  \n",
            " 7   Parch        891 non-null    int64  \n",
            " 8   Ticket       891 non-null    object \n",
            " 9   Fare         891 non-null    float64\n",
            " 10  Cabin        204 non-null    object \n",
            " 11  Embarked     889 non-null    object \n",
            "dtypes: float64(2), int64(5), object(5)\n",
            "memory usage: 83.7+ KB\n",
            "None\n"
          ]
        }
      ]
    },
    {
      "cell_type": "markdown",
      "source": [
        "**Data Information:**\n",
        "1. **`PassengerId`** (int): ID unik untuk setiap penumpang.\n",
        "2. **`Survived`** (int): Kolom target yang menunjukkan apakah penumpang selamat atau tidak. Nilai 1 berarti selamat, dan nilai 0 berarti tidak selamat. Ini adalah kolom yang akan diprediksi oleh model.\n",
        "3. **`Pclass`** (int): Kelas tiket penumpang, yang menunjukkan status sosial-ekonomi penumpang:\n",
        " - 1 = Kelas pertama\n",
        " - 2 = Kelas kedua\n",
        " - 3 = Kelas ketiga\n",
        "\n",
        "4. **`name`** (str): Nama penumpang.\n",
        "5. **`sex`** (str): Jenis kelamin penumpang. Kolom ini dapat digunakan sebagai fitur kategorikal untuk model, yang harus diubah menjadi format numerik (misalnya menggunakan Label Encoding).\n",
        "6. **`age`** (float): Usia penumpang.\n",
        "7. **`SibSp`** (int): Jumlah saudara atau pasangan (siblings/spouses) yang ikut bersama penumpang di kapal Titanic.\n",
        "8. **`parch`** (int): Jumlah orang tua atau anak yang ikut bersama penumpang di kapal Titanic.\n",
        "9. **`ticket`** (str): Nomor tiket penumpang.\n",
        "10. **`fare`** (float): Harga tiket yang dibayar oleh penumpang. Kolom ini merupakan fitur numerik yang relevan dengan status sosial-ekonomi penumpang.\n",
        "11. **`cabin`** (string): Nomor kabin penumpang.\n",
        "12. **`embarked`** (str): Pelabuhan keberangkatan penumpang:\n",
        " - C = Cherbourg\n",
        " - Q = Queenstown\n",
        " - S = Southampton"
      ],
      "metadata": {
        "id": "ZiI2x0KeWZQN"
      }
    },
    {
      "cell_type": "code",
      "source": [
        "# Cek baris dan kolom\n",
        "nRow, nCol = df.shape\n",
        "print(f'ada {nRow} baris and {nCol} kolom')\n",
        "\n",
        "# Cek Missing Values\n",
        "print('Missing values: ')\n",
        "print(df.isnull().sum())\n",
        "print(\"\\n\")\n",
        "\n",
        "# Check duplicated data\n",
        "duplikat = df.duplicated().sum()\n",
        "print(f'Jumlah data duplikat sebanyak {duplikat} data ')"
      ],
      "metadata": {
        "colab": {
          "base_uri": "https://localhost:8080/"
        },
        "id": "lXeUe2zZO0oI",
        "outputId": "7d879e2e-784e-48f2-bf54-be99cf541d5c"
      },
      "execution_count": 54,
      "outputs": [
        {
          "output_type": "stream",
          "name": "stdout",
          "text": [
            "ada 891 baris and 12 kolom\n",
            "Missing values: \n",
            "PassengerId      0\n",
            "Survived         0\n",
            "Pclass           0\n",
            "Name             0\n",
            "Sex              0\n",
            "Age            177\n",
            "SibSp            0\n",
            "Parch            0\n",
            "Ticket           0\n",
            "Fare             0\n",
            "Cabin          687\n",
            "Embarked         2\n",
            "dtype: int64\n",
            "\n",
            "\n",
            "Jumlah data duplikat sebanyak 0 data \n"
          ]
        }
      ]
    },
    {
      "cell_type": "code",
      "source": [
        "# Statistik deskriptif\n",
        "print(df.describe())"
      ],
      "metadata": {
        "colab": {
          "base_uri": "https://localhost:8080/"
        },
        "id": "7FKeRYA8YmwA",
        "outputId": "41324261-18f1-42c7-8754-572caff01435"
      },
      "execution_count": 55,
      "outputs": [
        {
          "output_type": "stream",
          "name": "stdout",
          "text": [
            "       PassengerId    Survived      Pclass         Age       SibSp  \\\n",
            "count   891.000000  891.000000  891.000000  714.000000  891.000000   \n",
            "mean    446.000000    0.383838    2.308642   29.699118    0.523008   \n",
            "std     257.353842    0.486592    0.836071   14.526497    1.102743   \n",
            "min       1.000000    0.000000    1.000000    0.420000    0.000000   \n",
            "25%     223.500000    0.000000    2.000000   20.125000    0.000000   \n",
            "50%     446.000000    0.000000    3.000000   28.000000    0.000000   \n",
            "75%     668.500000    1.000000    3.000000   38.000000    1.000000   \n",
            "max     891.000000    1.000000    3.000000   80.000000    8.000000   \n",
            "\n",
            "            Parch        Fare  \n",
            "count  891.000000  891.000000  \n",
            "mean     0.381594   32.204208  \n",
            "std      0.806057   49.693429  \n",
            "min      0.000000    0.000000  \n",
            "25%      0.000000    7.910400  \n",
            "50%      0.000000   14.454200  \n",
            "75%      0.000000   31.000000  \n",
            "max      6.000000  512.329200  \n"
          ]
        }
      ]
    },
    {
      "cell_type": "markdown",
      "source": [
        " Statistik ini memberi gambaran tentang distribusi nilai di setiap kolom numerik (seperti Age, Fare), yang membantu kita memahami data lebih dalam."
      ],
      "metadata": {
        "id": "d03XII_VYnps"
      }
    },
    {
      "cell_type": "markdown",
      "source": [
        "## **C.1 Visualisasi distribusi umur**"
      ],
      "metadata": {
        "id": "WlkWtZvJY3U6"
      }
    },
    {
      "cell_type": "code",
      "source": [
        "# Distribusi umur\n",
        "plt.figure(figsize=(8, 4))\n",
        "sns.histplot(df['Age'], bins=30, kde=True)\n",
        "plt.title('Distribusi Umur Penumpang')\n",
        "plt.xlabel('Usia')\n",
        "plt.ylabel('Jumlah')\n",
        "plt.show()"
      ],
      "metadata": {
        "colab": {
          "base_uri": "https://localhost:8080/",
          "height": 410
        },
        "id": "BEmDSwtlZGwU",
        "outputId": "40d07cab-0026-4b40-d8de-07ccd9ef9a59"
      },
      "execution_count": 56,
      "outputs": [
        {
          "output_type": "display_data",
          "data": {
            "text/plain": [
              "<Figure size 800x400 with 1 Axes>"
            ],
            "image/png": "[encoded data removed]"
          },
          "metadata": {}
        }
      ]
    },
    {
      "cell_type": "markdown",
      "source": [
        "Visualisasi ini membantu kita memahami distribusi usia penumpang di Titanic. Penumpang dengan usia 20-an hingga 40-an tampak paling banyak, sementara lebih sedikit penumpang yang lebih muda atau lebih tua."
      ],
      "metadata": {
        "id": "o07dIQsLZlEr"
      }
    },
    {
      "cell_type": "markdown",
      "source": [
        "## **C.2 Jumlah penumpang berdasarkan jenis kelamin**"
      ],
      "metadata": {
        "id": "7vz00JGKY9BK"
      }
    },
    {
      "cell_type": "code",
      "source": [
        "# Jumlah penumpang berdasarkan jenkel\n",
        "sns.countplot(x='Sex', data=df)\n",
        "plt.title('Jumlah Penumpang berdasarkan Jenis Kelamin')\n",
        "plt.show()\n",
        "\n",
        "# Display output\n",
        "gender_count = df['Sex'].value_counts()\n",
        "print(gender_count)"
      ],
      "metadata": {
        "colab": {
          "base_uri": "https://localhost:8080/",
          "height": 541
        },
        "id": "d5_9bVZOZJ4n",
        "outputId": "901dc812-1f79-4e25-d764-12eb5d6f993c"
      },
      "execution_count": 57,
      "outputs": [
        {
          "output_type": "display_data",
          "data": {
            "text/plain": [
              "<Figure size 640x480 with 1 Axes>"
            ],
            "image/png": "[encoded data removed]"
          },
          "metadata": {}
        },
        {
          "output_type": "stream",
          "name": "stdout",
          "text": [
            "Sex\n",
            "male      577\n",
            "female    314\n",
            "Name: count, dtype: int64\n"
          ]
        }
      ]
    },
    {
      "cell_type": "markdown",
      "source": [
        "Terdapat 577 penumpang laki-laki dan 314 penumpang perempuan, yang menunjukkan bahwa lebih banyak penumpang laki-laki yang berada di kapal Titanic"
      ],
      "metadata": {
        "id": "ShK-kSfbafNm"
      }
    },
    {
      "cell_type": "markdown",
      "source": [
        "## **C.3 Jumlah penumpang berdasarkan kelas tiket**"
      ],
      "metadata": {
        "id": "N_WwlRHMZJpF"
      }
    },
    {
      "cell_type": "code",
      "source": [
        "# Jumlah penumpang berdasarkan kelas tiket\n",
        "sns.countplot(x='Pclass', data=df)\n",
        "plt.title('Jumlah Penumpang berdasarkan Kelas Tiket')\n",
        "plt.show()"
      ],
      "metadata": {
        "colab": {
          "base_uri": "https://localhost:8080/",
          "height": 472
        },
        "id": "ujYtbIniZRjP",
        "outputId": "5f30d072-5c12-4f43-d82a-75d97b01e8d2"
      },
      "execution_count": 58,
      "outputs": [
        {
          "output_type": "display_data",
          "data": {
            "text/plain": [
              "<Figure size 640x480 with 1 Axes>"
            ],
            "image/png": "[encoded data removed]"
          },
          "metadata": {}
        }
      ]
    },
    {
      "cell_type": "markdown",
      "source": [
        "Kelas 1 (Pclass = 1): Memiliki jumlah penumpang yang paling sedikit dibandingkan dengan kelas lainnya, namun jumlahnya tetap signifikan.\n",
        "\n",
        "Kelas 2 (Pclass = 2): Jumlah penumpang di kelas 2 sedikit lebih banyak dibandingkan dengan kelas 1, namun lebih sedikit dibandingkan kelas 3.\n",
        "\n",
        "Kelas 3 (Pclass = 3): Kelas ini memiliki jumlah penumpang yang terbanyak, hampir dua kali lipat jumlah penumpang di kelas 1 dan 2."
      ],
      "metadata": {
        "id": "BSMszC9HbBNG"
      }
    },
    {
      "cell_type": "markdown",
      "source": [
        "## **C.4 Heatmap Korelasi**"
      ],
      "metadata": {
        "id": "3JSZlK55Y859"
      }
    },
    {
      "cell_type": "code",
      "source": [
        "# Korelasi antara Fitur\n",
        "plt.figure(figsize=(10, 6))\n",
        "sns.heatmap(df.corr(numeric_only=True), annot=True, cmap='coolwarm')\n",
        "plt.title('Heatmap Korelasi Antar Fitur Numerik')\n",
        "plt.show()"
      ],
      "metadata": {
        "colab": {
          "base_uri": "https://localhost:8080/",
          "height": 545
        },
        "id": "qteB__D2UV2v",
        "outputId": "75ba4fe9-386e-4cc6-a6ef-0473e581e905"
      },
      "execution_count": 59,
      "outputs": [
        {
          "output_type": "display_data",
          "data": {
            "text/plain": [
              "<Figure size 1000x600 with 2 Axes>"
            ],
            "image/png": "[encoded data removed]"
          },
          "metadata": {}
        }
      ]
    },
    {
      "cell_type": "markdown",
      "source": [
        "Faktor utama yang mempengaruhi kelangsungan hidup adalah Kelas tiket (Pclass) dan harga tiket (Fare). Penumpang yang berada di kelas 3 (kelas ekonomi) memiliki kemungkinan lebih rendah untuk selamat, sedangkan penumpang di kelas 1 (kelas atas) lebih mungkin selamat. Lalu, fare dan survived memiliki korelasi positif moderat (0.26). Penumpang yang membayar tiket lebih mahal (misalnya, kelas atas) memiliki kemungkinan lebih tinggi untuk selamat.\n",
        "Kemudian, umur penumpang sedikit mempengaruhi kelangsungan hidup mereka, meskipun hubungan ini tidak sangat kuat."
      ],
      "metadata": {
        "id": "34FpzkH-bUap"
      }
    },
    {
      "cell_type": "markdown",
      "source": [
        "# **D. Data Preprocessing**"
      ],
      "metadata": {
        "id": "CvcGYEj1c6Yc"
      }
    },
    {
      "cell_type": "markdown",
      "source": [
        "Setelah mengetahui struktur dan visualisasi data, langkah selanjutnya adalah mempersiapkan data agar bisa digunakan oleh model."
      ],
      "metadata": {
        "id": "4GRli47ld23r"
      }
    },
    {
      "cell_type": "markdown",
      "source": [
        "## **D.1 Handle Missing Values**"
      ],
      "metadata": {
        "id": "TzVVO7Y8fVhn"
      }
    },
    {
      "cell_type": "code",
      "source": [
        "# Isi missing value kolom Age dengan median (lebih stabil dari mean jika ada outlier)\n",
        "df['Age'] = df['Age'].fillna(df['Age'].median())\n",
        "\n",
        "# Kolom Embarked diisi dengan modus (nilai terbanyak)\n",
        "df['Embarked'] = df['Embarked'].fillna(df['Embarked'].mode()[0])\n",
        "\n",
        "# Kolom Cabin dihapus karena banyak missing value\n",
        "df.drop(columns=['Cabin'], inplace=True)\n"
      ],
      "metadata": {
        "id": "JOIhmktXOMyf"
      },
      "execution_count": 60,
      "outputs": []
    },
    {
      "cell_type": "markdown",
      "source": [
        "Ada beberapa kolom dengan nilai hilang:\n",
        "\n",
        "*   Kolom `Age` yang memiliki nilai hilang, kita akan mengisi nilai-nilai tersebut dengan median, karena usia bersifat numerik dan median lebih baik untuk data yang terdistribusi tidak merata.\n",
        "*   Kolom `Embarked` yang memiliki nilai hilang, kita akan mengisinya dengan modus (nilai paling sering) karena ini adalah data kategorikal dan yang hilang tidak terlalu banyak.\n",
        "*   `Cabin` dihapus karena data yang hilang sangat banyak dan jika diisi dapat berpotensi menghasilkan noise.\n",
        "\n",
        "\n",
        "\n",
        "\n"
      ],
      "metadata": {
        "id": "9bnTYqdrd9vJ"
      }
    },
    {
      "cell_type": "markdown",
      "source": [
        "## **D.2 Encoding**"
      ],
      "metadata": {
        "id": "997cFhr7dbtu"
      }
    },
    {
      "cell_type": "code",
      "source": [
        "# Label Encoding untuk kolom Sex\n",
        "df['Sex'] = LabelEncoder().fit_transform(df['Sex'])  # male=1, female=0\n",
        "\n",
        "# One-Hot Encoding untuk kolom Embarked\n",
        "df = pd.get_dummies(df, columns=['Embarked'], drop_first=True)  # Hindari multikolinearitas\n"
      ],
      "metadata": {
        "id": "C_ABaN9dPTXx"
      },
      "execution_count": 61,
      "outputs": []
    },
    {
      "cell_type": "markdown",
      "source": [
        "Untuk kolom Sex, kita bisa menggunakan Label Encoding karena hanya ada dua kategori (male dan female). Kemudian, untuk Embarked, kita menggunakan One-Hot Encoding agar setiap kategori memiliki kolom terpisah alasannya karena jika nilai pada satu kolom adalah 1, dua kolom lainnya harus bernilai 0. Hal ini menciptakan multikolinieritas yang bisa merugikan model (terutama pada model linear seperti regresi logistik), karena kolom-kolom tersebut menyimpan informasi yang sangat mirip.\n",
        "\n",
        "Untuk menghindari masalah multikolinieritas ini, kita dapat menghapus satu kolom dari hasil One-Hot Encoding, yang sering disebut dengan teknik dummy variable trap. Menghapus satu kolom tidak akan mengurangi informasi yang tersedia, karena kolom yang tersisa sudah cukup untuk merepresentasikan seluruh kategori."
      ],
      "metadata": {
        "id": "1IZQMuNofkV9"
      }
    },
    {
      "cell_type": "markdown",
      "source": [
        "## **D.3 Feature Selection**"
      ],
      "metadata": {
        "id": "_PlbLIhYf_pr"
      }
    },
    {
      "cell_type": "code",
      "source": [
        "# Hapus kolom yang tidak relevan\n",
        "df.drop(columns=['PassengerId', 'Name', 'Ticket'], inplace=True)\n",
        "\n",
        "# Cek kolom yang tersisa\n",
        "print(df.columns)\n"
      ],
      "metadata": {
        "colab": {
          "base_uri": "https://localhost:8080/"
        },
        "id": "-QQQsoMLPUxh",
        "outputId": "02bf417f-6ae8-45a4-9b6b-529b97685da7"
      },
      "execution_count": 62,
      "outputs": [
        {
          "output_type": "stream",
          "name": "stdout",
          "text": [
            "Index(['Survived', 'Pclass', 'Sex', 'Age', 'SibSp', 'Parch', 'Fare',\n",
            "       'Embarked_Q', 'Embarked_S'],\n",
            "      dtype='object')\n"
          ]
        }
      ]
    },
    {
      "cell_type": "markdown",
      "source": [
        "Atribut yang dihapus tidak terlalu relevan dalam penelitian karena `PassengerId` hanya ID, tidak mengandung informasi prediktif. Lalu, `name` berisi string panjang dan sulit digunakan langsung, dan `ticket` datanya tidak terlalu jelas maknanya."
      ],
      "metadata": {
        "id": "Y4_3LkoxguQX"
      }
    },
    {
      "cell_type": "markdown",
      "source": [
        "# **E. Data Splitting**"
      ],
      "metadata": {
        "id": "RrXit4wThyaZ"
      }
    },
    {
      "cell_type": "code",
      "source": [
        "# Pisahkan fitur dan target\n",
        "X = df.drop('Survived', axis=1)\n",
        "y = df['Survived']\n",
        "\n",
        "# Split 80:20\n",
        "X_train, X_test, y_train, y_test = train_test_split(X, y, test_size=0.2, random_state=42)"
      ],
      "metadata": {
        "id": "XrVxJYi5h5KY"
      },
      "execution_count": 63,
      "outputs": []
    },
    {
      "cell_type": "markdown",
      "source": [
        "Kita pisahkan antara fitur (X) dan label yang mau diprediksi (y = Survived).\n",
        "Terus bagi datanya 80% buat training, 20% buat testing. Pembagian data menjadi training dan testing set penting untuk memeriksa apakah model dapat bekerja dengan baik pada data yang belum dilihat sebelumnya."
      ],
      "metadata": {
        "id": "7OG2vqhdiWsq"
      }
    },
    {
      "cell_type": "markdown",
      "source": [
        "# **F. Modelling**"
      ],
      "metadata": {
        "id": "f7Ns_uoehQrS"
      }
    },
    {
      "cell_type": "code",
      "source": [
        "model = LogisticRegression(max_iter=1000)\n",
        "model.fit(X_train, y_train)\n"
      ],
      "metadata": {
        "colab": {
          "base_uri": "https://localhost:8080/",
          "height": 80
        },
        "id": "6WzQmo1DPYSu",
        "outputId": "43153440-c47a-4094-d05f-e649efec7646"
      },
      "execution_count": 64,
      "outputs": [
        {
          "output_type": "execute_result",
          "data": {
            "text/plain": [
              "LogisticRegression(max_iter=1000)"
            ],
            "text/html": [
              "<style>#sk-container-id-3 {\n",
              "  /* Definition of color scheme common for light and dark mode */\n",
              "  --sklearn-color-text: #000;\n",
              "  --sklearn-color-text-muted: #666;\n",
              "  --sklearn-color-line: gray;\n",
              "  /* Definition of color scheme for unfitted estimators */\n",
              "  --sklearn-color-unfitted-level-0: #fff5e6;\n",
              "  --sklearn-color-unfitted-level-1: #f6e4d2;\n",
              "  --sklearn-color-unfitted-level-2: #ffe0b3;\n",
              "  --sklearn-color-unfitted-level-3: chocolate;\n",
              "  /* Definition of color scheme for fitted estimators */\n",
              "  --sklearn-color-fitted-level-0: #f0f8ff;\n",
              "  --sklearn-color-fitted-level-1: #d4ebff;\n",
              "  --sklearn-color-fitted-level-2: #b3dbfd;\n",
              "  --sklearn-color-fitted-level-3: cornflowerblue;\n",
              "\n",
              "  /* Specific color for light theme */\n",
              "  --sklearn-color-text-on-default-background: var(--sg-text-color, var(--theme-code-foreground, var(--jp-content-font-color1, black)));\n",
              "  --sklearn-color-background: var(--sg-background-color, var(--theme-background, var(--jp-layout-color0, white)));\n",
              "  --sklearn-color-border-box: var(--sg-text-color, var(--theme-code-foreground, var(--jp-content-font-color1, black)));\n",
              "  --sklearn-color-icon: #696969;\n",
              "\n",
              "  @media (prefers-color-scheme: dark) {\n",
              "    /* Redefinition of color scheme for dark theme */\n",
              "    --sklearn-color-text-on-default-background: var(--sg-text-color, var(--theme-code-foreground, var(--jp-content-font-color1, white)));\n",
              "    --sklearn-color-background: var(--sg-background-color, var(--theme-background, var(--jp-layout-color0, #111)));\n",
              "    --sklearn-color-border-box: var(--sg-text-color, var(--theme-code-foreground, var(--jp-content-font-color1, white)));\n",
              "    --sklearn-color-icon: #878787;\n",
              "  }\n",
              "}\n",
              "\n",
              "#sk-container-id-3 {\n",
              "  color: var(--sklearn-color-text);\n",
              "}\n",
              "\n",
              "#sk-container-id-3 pre {\n",
              "  padding: 0;\n",
              "}\n",
              "\n",
              "#sk-container-id-3 input.sk-hidden--visually {\n",
              "  border: 0;\n",
              "  clip: rect(1px 1px 1px 1px);\n",
              "  clip: rect(1px, 1px, 1px, 1px);\n",
              "  height: 1px;\n",
              "  margin: -1px;\n",
              "  overflow: hidden;\n",
              "  padding: 0;\n",
              "  position: absolute;\n",
              "  width: 1px;\n",
              "}\n",
              "\n",
              "#sk-container-id-3 div.sk-dashed-wrapped {\n",
              "  border: 1px dashed var(--sklearn-color-line);\n",
              "  margin: 0 0.4em 0.5em 0.4em;\n",
              "  box-sizing: border-box;\n",
              "  padding-bottom: 0.4em;\n",
              "  background-color: var(--sklearn-color-background);\n",
              "}\n",
              "\n",
              "#sk-container-id-3 div.sk-container {\n",
              "  /* jupyter's `normalize.less` sets `[hidden] { display: none; }`\n",
              "     but bootstrap.min.css set `[hidden] { display: none !important; }`\n",
              "     so we also need the `!important` here to be able to override the\n",
              "     default hidden behavior on the sphinx rendered scikit-learn.org.\n",
              "     See: https://github.com/scikit-learn/scikit-learn/issues/21755 */\n",
              "  display: inline-block !important;\n",
              "  position: relative;\n",
              "}\n",
              "\n",
              "#sk-container-id-3 div.sk-text-repr-fallback {\n",
              "  display: none;\n",
              "}\n",
              "\n",
              "div.sk-parallel-item,\n",
              "div.sk-serial,\n",
              "div.sk-item {\n",
              "  /* draw centered vertical line to link estimators */\n",
              "  background-image: linear-gradient(var(--sklearn-color-text-on-default-background), var(--sklearn-color-text-on-default-background));\n",
              "  background-size: 2px 100%;\n",
              "  background-repeat: no-repeat;\n",
              "  background-position: center center;\n",
              "}\n",
              "\n",
              "/* Parallel-specific style estimator block */\n",
              "\n",
              "#sk-container-id-3 div.sk-parallel-item::after {\n",
              "  content: \"\";\n",
              "  width: 100%;\n",
              "  border-bottom: 2px solid var(--sklearn-color-text-on-default-background);\n",
              "  flex-grow: 1;\n",
              "}\n",
              "\n",
              "#sk-container-id-3 div.sk-parallel {\n",
              "  display: flex;\n",
              "  align-items: stretch;\n",
              "  justify-content: center;\n",
              "  background-color: var(--sklearn-color-background);\n",
              "  position: relative;\n",
              "}\n",
              "\n",
              "#sk-container-id-3 div.sk-parallel-item {\n",
              "  display: flex;\n",
              "  flex-direction: column;\n",
              "}\n",
              "\n",
              "#sk-container-id-3 div.sk-parallel-item:first-child::after {\n",
              "  align-self: flex-end;\n",
              "  width: 50%;\n",
              "}\n",
              "\n",
              "#sk-container-id-3 div.sk-parallel-item:last-child::after {\n",
              "  align-self: flex-start;\n",
              "  width: 50%;\n",
              "}\n",
              "\n",
              "#sk-container-id-3 div.sk-parallel-item:only-child::after {\n",
              "  width: 0;\n",
              "}\n",
              "\n",
              "/* Serial-specific style estimator block */\n",
              "\n",
              "#sk-container-id-3 div.sk-serial {\n",
              "  display: flex;\n",
              "  flex-direction: column;\n",
              "  align-items: center;\n",
              "  background-color: var(--sklearn-color-background);\n",
              "  padding-right: 1em;\n",
              "  padding-left: 1em;\n",
              "}\n",
              "\n",
              "\n",
              "/* Toggleable style: style used for estimator/Pipeline/ColumnTransformer box that is\n",
              "clickable and can be expanded/collapsed.\n",
              "- Pipeline and ColumnTransformer use this feature and define the default style\n",
              "- Estimators will overwrite some part of the style using the `sk-estimator` class\n",
              "*/\n",
              "\n",
              "/* Pipeline and ColumnTransformer style (default) */\n",
              "\n",
              "#sk-container-id-3 div.sk-toggleable {\n",
              "  /* Default theme specific background. It is overwritten whether we have a\n",
              "  specific estimator or a Pipeline/ColumnTransformer */\n",
              "  background-color: var(--sklearn-color-background);\n",
              "}\n",
              "\n",
              "/* Toggleable label */\n",
              "#sk-container-id-3 label.sk-toggleable__label {\n",
              "  cursor: pointer;\n",
              "  display: flex;\n",
              "  width: 100%;\n",
              "  margin-bottom: 0;\n",
              "  padding: 0.5em;\n",
              "  box-sizing: border-box;\n",
              "  text-align: center;\n",
              "  align-items: start;\n",
              "  justify-content: space-between;\n",
              "  gap: 0.5em;\n",
              "}\n",
              "\n",
              "#sk-container-id-3 label.sk-toggleable__label .caption {\n",
              "  font-size: 0.6rem;\n",
              "  font-weight: lighter;\n",
              "  color: var(--sklearn-color-text-muted);\n",
              "}\n",
              "\n",
              "#sk-container-id-3 label.sk-toggleable__label-arrow:before {\n",
              "  /* Arrow on the left of the label */\n",
              "  content: \"▸\";\n",
              "  float: left;\n",
              "  margin-right: 0.25em;\n",
              "  color: var(--sklearn-color-icon);\n",
              "}\n",
              "\n",
              "#sk-container-id-3 label.sk-toggleable__label-arrow:hover:before {\n",
              "  color: var(--sklearn-color-text);\n",
              "}\n",
              "\n",
              "/* Toggleable content - dropdown */\n",
              "\n",
              "#sk-container-id-3 div.sk-toggleable__content {\n",
              "  max-height: 0;\n",
              "  max-width: 0;\n",
              "  overflow: hidden;\n",
              "  text-align: left;\n",
              "  /* unfitted */\n",
              "  background-color: var(--sklearn-color-unfitted-level-0);\n",
              "}\n",
              "\n",
              "#sk-container-id-3 div.sk-toggleable__content.fitted {\n",
              "  /* fitted */\n",
              "  background-color: var(--sklearn-color-fitted-level-0);\n",
              "}\n",
              "\n",
              "#sk-container-id-3 div.sk-toggleable__content pre {\n",
              "  margin: 0.2em;\n",
              "  border-radius: 0.25em;\n",
              "  color: var(--sklearn-color-text);\n",
              "  /* unfitted */\n",
              "  background-color: var(--sklearn-color-unfitted-level-0);\n",
              "}\n",
              "\n",
              "#sk-container-id-3 div.sk-toggleable__content.fitted pre {\n",
              "  /* unfitted */\n",
              "  background-color: var(--sklearn-color-fitted-level-0);\n",
              "}\n",
              "\n",
              "#sk-container-id-3 input.sk-toggleable__control:checked~div.sk-toggleable__content {\n",
              "  /* Expand drop-down */\n",
              "  max-height: 200px;\n",
              "  max-width: 100%;\n",
              "  overflow: auto;\n",
              "}\n",
              "\n",
              "#sk-container-id-3 input.sk-toggleable__control:checked~label.sk-toggleable__label-arrow:before {\n",
              "  content: \"▾\";\n",
              "}\n",
              "\n",
              "/* Pipeline/ColumnTransformer-specific style */\n",
              "\n",
              "#sk-container-id-3 div.sk-label input.sk-toggleable__control:checked~label.sk-toggleable__label {\n",
              "  color: var(--sklearn-color-text);\n",
              "  background-color: var(--sklearn-color-unfitted-level-2);\n",
              "}\n",
              "\n",
              "#sk-container-id-3 div.sk-label.fitted input.sk-toggleable__control:checked~label.sk-toggleable__label {\n",
              "  background-color: var(--sklearn-color-fitted-level-2);\n",
              "}\n",
              "\n",
              "/* Estimator-specific style */\n",
              "\n",
              "/* Colorize estimator box */\n",
              "#sk-container-id-3 div.sk-estimator input.sk-toggleable__control:checked~label.sk-toggleable__label {\n",
              "  /* unfitted */\n",
              "  background-color: var(--sklearn-color-unfitted-level-2);\n",
              "}\n",
              "\n",
              "#sk-container-id-3 div.sk-estimator.fitted input.sk-toggleable__control:checked~label.sk-toggleable__label {\n",
              "  /* fitted */\n",
              "  background-color: var(--sklearn-color-fitted-level-2);\n",
              "}\n",
              "\n",
              "#sk-container-id-3 div.sk-label label.sk-toggleable__label,\n",
              "#sk-container-id-3 div.sk-label label {\n",
              "  /* The background is the default theme color */\n",
              "  color: var(--sklearn-color-text-on-default-background);\n",
              "}\n",
              "\n",
              "/* On hover, darken the color of the background */\n",
              "#sk-container-id-3 div.sk-label:hover label.sk-toggleable__label {\n",
              "  color: var(--sklearn-color-text);\n",
              "  background-color: var(--sklearn-color-unfitted-level-2);\n",
              "}\n",
              "\n",
              "/* Label box, darken color on hover, fitted */\n",
              "#sk-container-id-3 div.sk-label.fitted:hover label.sk-toggleable__label.fitted {\n",
              "  color: var(--sklearn-color-text);\n",
              "  background-color: var(--sklearn-color-fitted-level-2);\n",
              "}\n",
              "\n",
              "/* Estimator label */\n",
              "\n",
              "#sk-container-id-3 div.sk-label label {\n",
              "  font-family: monospace;\n",
              "  font-weight: bold;\n",
              "  display: inline-block;\n",
              "  line-height: 1.2em;\n",
              "}\n",
              "\n",
              "#sk-container-id-3 div.sk-label-container {\n",
              "  text-align: center;\n",
              "}\n",
              "\n",
              "/* Estimator-specific */\n",
              "#sk-container-id-3 div.sk-estimator {\n",
              "  font-family: monospace;\n",
              "  border: 1px dotted var(--sklearn-color-border-box);\n",
              "  border-radius: 0.25em;\n",
              "  box-sizing: border-box;\n",
              "  margin-bottom: 0.5em;\n",
              "  /* unfitted */\n",
              "  background-color: var(--sklearn-color-unfitted-level-0);\n",
              "}\n",
              "\n",
              "#sk-container-id-3 div.sk-estimator.fitted {\n",
              "  /* fitted */\n",
              "  background-color: var(--sklearn-color-fitted-level-0);\n",
              "}\n",
              "\n",
              "/* on hover */\n",
              "#sk-container-id-3 div.sk-estimator:hover {\n",
              "  /* unfitted */\n",
              "  background-color: var(--sklearn-color-unfitted-level-2);\n",
              "}\n",
              "\n",
              "#sk-container-id-3 div.sk-estimator.fitted:hover {\n",
              "  /* fitted */\n",
              "  background-color: var(--sklearn-color-fitted-level-2);\n",
              "}\n",
              "\n",
              "/* Specification for estimator info (e.g. \"i\" and \"?\") */\n",
              "\n",
              "/* Common style for \"i\" and \"?\" */\n",
              "\n",
              ".sk-estimator-doc-link,\n",
              "a:link.sk-estimator-doc-link,\n",
              "a:visited.sk-estimator-doc-link {\n",
              "  float: right;\n",
              "  font-size: smaller;\n",
              "  line-height: 1em;\n",
              "  font-family: monospace;\n",
              "  background-color: var(--sklearn-color-background);\n",
              "  border-radius: 1em;\n",
              "  height: 1em;\n",
              "  width: 1em;\n",
              "  text-decoration: none !important;\n",
              "  margin-left: 0.5em;\n",
              "  text-align: center;\n",
              "  /* unfitted */\n",
              "  border: var(--sklearn-color-unfitted-level-1) 1pt solid;\n",
              "  color: var(--sklearn-color-unfitted-level-1);\n",
              "}\n",
              "\n",
              ".sk-estimator-doc-link.fitted,\n",
              "a:link.sk-estimator-doc-link.fitted,\n",
              "a:visited.sk-estimator-doc-link.fitted {\n",
              "  /* fitted */\n",
              "  border: var(--sklearn-color-fitted-level-1) 1pt solid;\n",
              "  color: var(--sklearn-color-fitted-level-1);\n",
              "}\n",
              "\n",
              "/* On hover */\n",
              "div.sk-estimator:hover .sk-estimator-doc-link:hover,\n",
              ".sk-estimator-doc-link:hover,\n",
              "div.sk-label-container:hover .sk-estimator-doc-link:hover,\n",
              ".sk-estimator-doc-link:hover {\n",
              "  /* unfitted */\n",
              "  background-color: var(--sklearn-color-unfitted-level-3);\n",
              "  color: var(--sklearn-color-background);\n",
              "  text-decoration: none;\n",
              "}\n",
              "\n",
              "div.sk-estimator.fitted:hover .sk-estimator-doc-link.fitted:hover,\n",
              ".sk-estimator-doc-link.fitted:hover,\n",
              "div.sk-label-container:hover .sk-estimator-doc-link.fitted:hover,\n",
              ".sk-estimator-doc-link.fitted:hover {\n",
              "  /* fitted */\n",
              "  background-color: var(--sklearn-color-fitted-level-3);\n",
              "  color: var(--sklearn-color-background);\n",
              "  text-decoration: none;\n",
              "}\n",
              "\n",
              "/* Span, style for the box shown on hovering the info icon */\n",
              ".sk-estimator-doc-link span {\n",
              "  display: none;\n",
              "  z-index: 9999;\n",
              "  position: relative;\n",
              "  font-weight: normal;\n",
              "  right: .2ex;\n",
              "  padding: .5ex;\n",
              "  margin: .5ex;\n",
              "  width: min-content;\n",
              "  min-width: 20ex;\n",
              "  max-width: 50ex;\n",
              "  color: var(--sklearn-color-text);\n",
              "  box-shadow: 2pt 2pt 4pt #999;\n",
              "  /* unfitted */\n",
              "  background: var(--sklearn-color-unfitted-level-0);\n",
              "  border: .5pt solid var(--sklearn-color-unfitted-level-3);\n",
              "}\n",
              "\n",
              ".sk-estimator-doc-link.fitted span {\n",
              "  /* fitted */\n",
              "  background: var(--sklearn-color-fitted-level-0);\n",
              "  border: var(--sklearn-color-fitted-level-3);\n",
              "}\n",
              "\n",
              ".sk-estimator-doc-link:hover span {\n",
              "  display: block;\n",
              "}\n",
              "\n",
              "/* \"?\"-specific style due to the `<a>` HTML tag */\n",
              "\n",
              "#sk-container-id-3 a.estimator_doc_link {\n",
              "  float: right;\n",
              "  font-size: 1rem;\n",
              "  line-height: 1em;\n",
              "  font-family: monospace;\n",
              "  background-color: var(--sklearn-color-background);\n",
              "  border-radius: 1rem;\n",
              "  height: 1rem;\n",
              "  width: 1rem;\n",
              "  text-decoration: none;\n",
              "  /* unfitted */\n",
              "  color: var(--sklearn-color-unfitted-level-1);\n",
              "  border: var(--sklearn-color-unfitted-level-1) 1pt solid;\n",
              "}\n",
              "\n",
              "#sk-container-id-3 a.estimator_doc_link.fitted {\n",
              "  /* fitted */\n",
              "  border: var(--sklearn-color-fitted-level-1) 1pt solid;\n",
              "  color: var(--sklearn-color-fitted-level-1);\n",
              "}\n",
              "\n",
              "/* On hover */\n",
              "#sk-container-id-3 a.estimator_doc_link:hover {\n",
              "  /* unfitted */\n",
              "  background-color: var(--sklearn-color-unfitted-level-3);\n",
              "  color: var(--sklearn-color-background);\n",
              "  text-decoration: none;\n",
              "}\n",
              "\n",
              "#sk-container-id-3 a.estimator_doc_link.fitted:hover {\n",
              "  /* fitted */\n",
              "  background-color: var(--sklearn-color-fitted-level-3);\n",
              "}\n",
              "</style><div id=\"sk-container-id-3\" class=\"sk-top-container\"><div class=\"sk-text-repr-fallback\"><pre>LogisticRegression(max_iter=1000)</pre><b>In a Jupyter environment, please rerun this cell to show the HTML representation or trust the notebook. <br />On GitHub, the HTML representation is unable to render, please try loading this page with nbviewer.org.</b></div><div class=\"sk-container\" hidden><div class=\"sk-item\"><div class=\"sk-estimator fitted sk-toggleable\"><input class=\"sk-toggleable__control sk-hidden--visually\" id=\"sk-estimator-id-3\" type=\"checkbox\" checked><label for=\"sk-estimator-id-3\" class=\"sk-toggleable__label fitted sk-toggleable__label-arrow\"><div><div>LogisticRegression</div></div><div><a class=\"sk-estimator-doc-link fitted\" rel=\"noreferrer\" target=\"_blank\" href=\"https://scikit-learn.org/1.6/modules/generated/sklearn.linear_model.LogisticRegression.html\">?<span>Documentation for LogisticRegression</span></a><span class=\"sk-estimator-doc-link fitted\">i<span>Fitted</span></span></div></label><div class=\"sk-toggleable__content fitted\"><pre>LogisticRegression(max_iter=1000)</pre></div> </div></div></div></div>"
            ]
          },
          "metadata": {},
          "execution_count": 64
        }
      ]
    },
    {
      "cell_type": "markdown",
      "source": [
        " Logistic Regression adalah model klasifikasi yang sederhana dan cukup efektif untuk masalah ini. Dengan menggunakan max_iter=1000, kita memberikan cukup waktu bagi model untuk berkonvergensi."
      ],
      "metadata": {
        "id": "Y1oK2G5Oin5O"
      }
    },
    {
      "cell_type": "markdown",
      "source": [
        "# **G. Evaluation**"
      ],
      "metadata": {
        "id": "DK_Qcw3citzb"
      }
    },
    {
      "cell_type": "markdown",
      "source": [
        "Kita menggunakan beberapa metrik untuk mengevaluasi performa model, seperti:\n",
        "\n",
        "- **Akurasi**: Seberapa banyak prediksi model yang benar.\n",
        "\n",
        "- **Matriks Konfusi**: Memperlihatkan jumlah prediksi benar dan salah dalam kategori positif dan negatif.\n",
        "\n",
        "- **Precision, Recall, F1-Score**: Mengukur seberapa baik model dalam mengklasifikasikan hasil yang positif (penumpang yang selamat)."
      ],
      "metadata": {
        "id": "Myv0szi5jsQx"
      }
    },
    {
      "cell_type": "code",
      "source": [
        "y_pred = model.predict(X_test)\n",
        "\n",
        "# Akurasi\n",
        "acc = accuracy_score(y_test, y_pred)\n",
        "print(f\"Akurasi: {acc:.2f}\")\n",
        "\n",
        "# Confusion Matrix\n",
        "cm = confusion_matrix(y_test, y_pred)\n",
        "sns.heatmap(cm, annot=True, fmt='d', cmap='Blues')\n",
        "plt.title(\"Confusion Matrix\")\n",
        "plt.xlabel(\"Predicted\")\n",
        "plt.ylabel(\"Actual\")\n",
        "plt.show()\n",
        "\n",
        "# Classification Report\n",
        "print(\"Classification Report:\")\n",
        "print(classification_report(y_test, y_pred))\n"
      ],
      "metadata": {
        "colab": {
          "base_uri": "https://localhost:8080/",
          "height": 663
        },
        "id": "XVsGAJPOPaJF",
        "outputId": "48c2049f-803e-4fe7-deba-7376347e040d"
      },
      "execution_count": 65,
      "outputs": [
        {
          "output_type": "stream",
          "name": "stdout",
          "text": [
            "Akurasi: 0.81\n"
          ]
        },
        {
          "output_type": "display_data",
          "data": {
            "text/plain": [
              "<Figure size 640x480 with 2 Axes>"
            ],
            "image/png": "[encoded data removed]"
          },
          "metadata": {}
        },
        {
          "output_type": "stream",
          "name": "stdout",
          "text": [
            "Classification Report:\n",
            "              precision    recall  f1-score   support\n",
            "\n",
            "           0       0.83      0.86      0.84       105\n",
            "           1       0.79      0.74      0.76        74\n",
            "\n",
            "    accuracy                           0.81       179\n",
            "   macro avg       0.81      0.80      0.80       179\n",
            "weighted avg       0.81      0.81      0.81       179\n",
            "\n"
          ]
        }
      ]
    },
    {
      "cell_type": "markdown",
      "source": [
        "Akurasi yang dihasilkan sebesar (0.81) = 81%.\n",
        "\n",
        "dan berikut adalah penjelasan Confusion Matrix:\n",
        "\n",
        "- `True Negative (TN) = 90`: Ada 90 penumpang yang diprediksi tidak selamat dan memang tidak selamat. Ini adalah jumlah prediksi yang benar untuk kategori \"tidak selamat\" (0).\n",
        "\n",
        "- `False Positive (FP) = 15`: Ada 15 penumpang yang diprediksi tidak selamat, tetapi sebenarnya mereka selamat. Ini adalah kesalahan prediksi positif.\n",
        "\n",
        "- `False Negative (FN) = 19`: Ada 19 penumpang yang diprediksi selamat, tetapi sebenarnya mereka tidak selamat. Ini adalah kesalahan prediksi negatif.\n",
        "\n",
        "- `True Positive (TP) = 55`: Ada 55 penumpang yang diprediksi selamat dan memang selamat. Ini adalah jumlah prediksi yang benar untuk kategori \"selamat\" (1).\n",
        "\n",
        "Evaluasi ini memberikan gambaran yang lebih lengkap tentang kinerja model dan membantu kita memahami kekuatan dan kelemahan model."
      ],
      "metadata": {
        "id": "OXNqEdyPkpJ3"
      }
    },
    {
      "cell_type": "code",
      "source": [
        "# Melakukan cross-validation dengan 5 fold\n",
        "cv_scores = cross_val_score(model, X, y, cv=5)\n",
        "\n",
        "# Display output\n",
        "print(\"Cross-validation scores:\", cv_scores)\n",
        "print(\"Average CV score:\", cv_scores.mean())\n"
      ],
      "metadata": {
        "colab": {
          "base_uri": "https://localhost:8080/"
        },
        "id": "rhIhy5dUSvfM",
        "outputId": "2fe5a8e0-aa2c-4898-8c45-3e6aeba910e7"
      },
      "execution_count": 66,
      "outputs": [
        {
          "output_type": "stream",
          "name": "stdout",
          "text": [
            "Cross-validation scores: [0.7877095  0.78651685 0.78651685 0.76966292 0.8258427 ]\n",
            "Average CV score: 0.7912497646098802\n"
          ]
        }
      ]
    },
    {
      "cell_type": "markdown",
      "source": [
        "Skor di antara fold cukup konsisten, dengan rentang antara 0.7697 dan 0.8258. Walaupun ada sedikit penurunan pada fold ke-4 (0.7697), secara keseluruhan performa model cukup stabil. Ini menunjukkan bahwa model tidak terlalu sensitif terhadap perubahan data pelatihan, dan dapat diandalkan di berbagai subset data."
      ],
      "metadata": {
        "id": "OhwEpLp1mmdO"
      }
    },
    {
      "cell_type": "code",
      "source": [
        "y_probs = model.predict_proba(X_test)[:, 1]  # Prediksi probabilitas untuk kelas 1 (selamat\n",
        "fpr, tpr, thresholds = roc_curve(y_test, y_probs) # Ngitung ROC curve nya\n",
        "roc_auc = auc(fpr, tpr) # Hitung AUC\n",
        "\n",
        "# Display result\n",
        "plt.figure(figsize=(8,6))\n",
        "plt.plot(fpr, tpr, label=f'Logistic Regression (AUC = {roc_auc:.2f})')\n",
        "plt.plot([0,1], [0,1], 'k--', label='Random Guess')\n",
        "plt.xlabel('False Positive Rate')\n",
        "plt.ylabel('True Positive Rate')\n",
        "plt.title('ROC Curve')\n",
        "plt.legend()\n",
        "plt.show()\n"
      ],
      "metadata": {
        "colab": {
          "base_uri": "https://localhost:8080/",
          "height": 564
        },
        "id": "ucivLbcYSyNY",
        "outputId": "daeaf45d-d362-4ef0-fffe-269752180204"
      },
      "execution_count": 67,
      "outputs": [
        {
          "output_type": "display_data",
          "data": {
            "text/plain": [
              "<Figure size 800x600 with 1 Axes>"
            ],
            "image/png": "[encoded data removed]"
          },
          "metadata": {}
        }
      ]
    },
    {
      "cell_type": "markdown",
      "source": [
        "ROC Curve (Receiver Operating Characteristic Curve) adalah grafik yang digunakan untuk menilai kinerja model klasifikasi, terutama untuk masalah dengan kelas tidak seimbang.\n",
        "\n",
        "Interpretasi hasil:\n",
        "AUC = 0.88: Area di bawah ROC Curve adalah 0.88, yang menunjukkan bahwa model Logistic Regression memiliki kemampuan yang sangat baik untuk membedakan antara penumpang yang selamat dan yang tidak selamat. Nilai AUC antara 0.8 hingga 1.0 dianggap sangat baik, menunjukkan bahwa model ini cukup kuat dalam membedakan kedua kelas.\n",
        "\n",
        "Model ini memiliki performansi yang jauh lebih baik daripada tebakan acak, yang berarti model ini efektif dalam memprediksi keselamatan penumpang Titanic."
      ],
      "metadata": {
        "id": "qvopVT9mm21c"
      }
    },
    {
      "cell_type": "markdown",
      "source": [
        "## **G.1 Testing Model**"
      ],
      "metadata": {
        "id": "2pbCDUzHnpyL"
      }
    },
    {
      "cell_type": "code",
      "source": [
        "def test_passenger(pclass, sex, age, sibsp, parch, fare, embarked_q, embarked_s):\n",
        "    sample = pd.DataFrame([{\n",
        "        'Pclass': pclass,\n",
        "        'Sex': sex,\n",
        "        'Age': age,\n",
        "        'SibSp': sibsp,\n",
        "        'Parch': parch,\n",
        "        'Fare': fare,\n",
        "        'Embarked_Q': embarked_q,\n",
        "        'Embarked_S': embarked_s\n",
        "    }])\n",
        "    pred = model.predict(sample)[0]\n",
        "    return \"Survived\" if pred == 1 else \"Not Survived\"\n",
        "\n",
        "# Contoh\n",
        "print(test_passenger(1, 0, 28, 0, 0, 100, 0, 1))  # Wanita kelas 1, dari Southampton\n"
      ],
      "metadata": {
        "colab": {
          "base_uri": "https://localhost:8080/"
        },
        "id": "Q3LDwrnJR4C1",
        "outputId": "c80805cf-3e3e-48b9-fd77-5c6f267b1ef4"
      },
      "execution_count": 68,
      "outputs": [
        {
          "output_type": "stream",
          "name": "stdout",
          "text": [
            "Survived\n"
          ]
        }
      ]
    },
    {
      "cell_type": "markdown",
      "source": [
        "# **H. Penjelasan dan Kesimpulan**"
      ],
      "metadata": {
        "id": "AZGcD_XKlzxD"
      }
    },
    {
      "cell_type": "markdown",
      "source": [
        "**1. Eksplorasi Data (Exploratory Data Analysis - EDA)**\n",
        "\n",
        "- Tujuan: Memahami struktur data sebelum melakukan pemrosesan dan pelatihan model.\n",
        "\n",
        "Pengecekan Data Awal:\n",
        "\n",
        "- Dengan menggunakan `df.head()` dan `df.info()`, kita bisa melihat beberapa baris pertama dan tipe data masing-masing kolom untuk memastikan semuanya dimuat dengan benar dan sekaligus memahami data tersebut. Ini juga menunjukkan adanya nilai yang hilang pada kolom-kolom tertentu, seperti `Age` `Embarked`, dan `Cabin`.\n",
        "\n",
        "Statistik Deskriptif:\n",
        "\n",
        "- Fungsi `df.describe()` memberikan ringkasan statistik numerik yang memberikan gambaran umum mengenai distribusi data seperti rata-rata, median, dan rentang nilai (min-max).\n",
        "\n",
        "Visualisasi Distribusi:\n",
        "\n",
        "- Distribusi Umur menggunakan histogram membantu kita melihat sebaran usia penumpang Titanic. Ada puncak di sekitar usia 20-40 tahun, menunjukkan bahwa kebanyakan penumpang berada di rentang usia tersebut.\n",
        "\n",
        "- Jumlah Penumpang Berdasarkan Jenis Kelamin dan Kelas Tiket memberikan gambaran distribusi kategori. Lebih banyak penumpang laki-laki dibandingkan perempuan dan jumlah penumpang kelas 3 jauh lebih banyak daripada kelas 1 dan 2.\n",
        "\n",
        "---\n",
        "\n",
        "**2. Pra-pemrosesan Data (Data Preprocessing)**\n",
        "\n",
        "- Tujuan: Memastikan data siap digunakan oleh model.\n",
        "\n",
        "Menangani Nilai Hilang:\n",
        "\n",
        "- Untuk kolom `Age`, nilai hilang diisi dengan median karena distribusi usia yang tidak normal atau merata.\n",
        "\n",
        "- Kolom Embarked diisi dengan modus (nilai terbanyak), karena ini adalah data kategorikal dengan hanya beberapa nilai hilang.\n",
        "\n",
        "Mengonversi Kategorikal menjadi Numerik:\n",
        "\n",
        "- Kolom Sex diubah menjadi format numerik menggunakan Label Encoding (male = 0, female = 1).\n",
        "\n",
        "- Kolom Embarked diubah menjadi format numerik menggunakan One-Hot Encoding dengan menghapus kolom pertama untuk menghindari masalah multikolinieritas.\n",
        "\n",
        "Pemilihan Fitur:\n",
        "\n",
        "- Kolom-kolom seperti PassengerId, Name, dan Ticket tidak relevan untuk prediksi dan dihapus.\n",
        "\n",
        "\n",
        "---\n",
        "\n",
        "**3. Persiapan Data untuk Model**\n",
        "\n",
        "Tujuan: Membagi data menjadi fitur dan target, serta membaginya menjadi set pelatihan dan pengujian.\n",
        "\n",
        "Fitur dan Target:\n",
        "\n",
        "- Kolom Survived digunakan sebagai target variabel (y) yang ingin diprediksi, sedangkan fitur lainnya seperti Age, Sex, Pclass, dan lainnya digunakan sebagai fitur (X).\n",
        "\n",
        "Pembagian Data:\n",
        "\n",
        "- Data dibagi menjadi set pelatihan dan pengujian dengan proporsi 80% untuk pelatihan dan 20% untuk pengujian. Ini bertujuan untuk mengevaluasi model pada data yang belum pernah dilihat sebelumnya.\n",
        "\n",
        "\n",
        "---\n",
        "\n",
        "\n",
        "**4. Pelatihan Model**\n",
        "\n",
        "Tujuan: Melatih model menggunakan data pelatihan untuk memprediksi kelas (penumpang selamat atau tidak selamat).\n",
        "\n",
        "Model yang Digunakan:\n",
        "\n",
        "- Model Logistic Regression digunakan untuk prediksi klasifikasi biner (selamat atau tidak selamat) karena LR sudah cukup baik dan sederhana dalam menangani project ini.\n",
        "\n",
        "Evaluasi Model:\n",
        "\n",
        "- Model dilatih menggunakan data pelatihan dan dilakukan prediksi pada data pengujian.\n",
        "\n",
        "\n",
        "---\n",
        "\n",
        "**5. Evaluasi Model**\n",
        "\n",
        "Tujuan: Menilai seberapa baik model melakukan prediksi dengan menggun\n",
        "akan berbagai metrik evaluasi.\n",
        "\n",
        "- Evaluasi Model: Berdasarkan confusion matrix dan classification report, model ini cukup baik dalam memprediksi kelas \"tidak selamat\", namun ada ruang untuk perbaikan pada prediksi kelas \"selamat\" dengan meningkatkan recall.\n",
        "\n",
        "- K-Fold Cross-Validation: Dengan rata-rata skor 0.7912, model menunjukkan kinerja yang stabil di seluruh dataset, dan ini mengurangi risiko overfitting.\n",
        "\n",
        "- ROC Curve dan AUC: Model Logistic Regression memiliki AUC 0.88, menunjukkan kemampuan model yang sangat baik dalam membedakan antara penumpang yang selamat dan yang tidak selamat. ROC Curve juga jauh dari garis diagonal (random guess), menunjukkan performa model yang sangat baik.\n",
        "\n",
        "K-Fold Cross validation dan ROC Curve dan AUC digunakan sebagai validasi bahwa akurasi model dalam memprediksi memang benar - benar baik. Dengan menggabungkan keempat teknik ini, kita bisa mendapatkan evaluasi model yang lebih komprehensif dan dapat dipercaya."
      ],
      "metadata": {
        "id": "dZHidtUKoiBV"
      }
    }
  ]
}